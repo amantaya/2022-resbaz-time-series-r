{
 "cells": [
  {
   "cell_type": "code",
   "execution_count": 7,
   "metadata": {
    "collapsed": true
   },
   "outputs": [],
   "source": []
  },
  {
   "cell_type": "code",
   "execution_count": 8,
   "outputs": [],
   "source": [
    "# We load the libraries into running memory\n",
    "\n",
    "import pandas as pd\n",
    "import numpy as np\n",
    "\n",
    "# Visualization libraries\n",
    "\n",
    "import matplotlib as mpl\n",
    "import matplotlib.pyplot as plt"
   ],
   "metadata": {
    "collapsed": false,
    "pycharm": {
     "name": "#%%\n"
    }
   }
  },
  {
   "cell_type": "code",
   "execution_count": 9,
   "outputs": [
    {
     "data": {
      "text/plain": "    species  island  culmen_length_mm  culmen_depth_mm  flipper_length_mm  \\\n324  Gentoo  Biscoe              47.3             13.8              216.0   \n325  Gentoo  Biscoe              46.8             16.1              215.0   \n326  Gentoo  Biscoe              41.7             14.7              210.0   \n327  Gentoo  Biscoe              53.4             15.8              219.0   \n328  Gentoo  Biscoe              43.3             14.0              208.0   \n329  Gentoo  Biscoe              48.1             15.1              209.0   \n330  Gentoo  Biscoe              50.5             15.2              216.0   \n331  Gentoo  Biscoe              49.8             15.9              229.0   \n332  Gentoo  Biscoe              43.5             15.2              213.0   \n333  Gentoo  Biscoe              51.5             16.3              230.0   \n334  Gentoo  Biscoe              46.2             14.1              217.0   \n335  Gentoo  Biscoe              55.1             16.0              230.0   \n336  Gentoo  Biscoe              44.5             15.7              217.0   \n337  Gentoo  Biscoe              48.8             16.2              222.0   \n338  Gentoo  Biscoe              47.2             13.7              214.0   \n339  Gentoo  Biscoe               NaN              NaN                NaN   \n340  Gentoo  Biscoe              46.8             14.3              215.0   \n341  Gentoo  Biscoe              50.4             15.7              222.0   \n342  Gentoo  Biscoe              45.2             14.8              212.0   \n343  Gentoo  Biscoe              49.9             16.1              213.0   \n\n     body_mass_g     sex  \n324       4725.0     NaN  \n325       5500.0    MALE  \n326       4700.0  FEMALE  \n327       5500.0    MALE  \n328       4575.0  FEMALE  \n329       5500.0    MALE  \n330       5000.0  FEMALE  \n331       5950.0    MALE  \n332       4650.0  FEMALE  \n333       5500.0    MALE  \n334       4375.0  FEMALE  \n335       5850.0    MALE  \n336       4875.0       .  \n337       6000.0    MALE  \n338       4925.0  FEMALE  \n339          NaN     NaN  \n340       4850.0  FEMALE  \n341       5750.0    MALE  \n342       5200.0  FEMALE  \n343       5400.0    MALE  ",
      "text/html": "<div>\n<style scoped>\n    .dataframe tbody tr th:only-of-type {\n        vertical-align: middle;\n    }\n\n    .dataframe tbody tr th {\n        vertical-align: top;\n    }\n\n    .dataframe thead th {\n        text-align: right;\n    }\n</style>\n<table border=\"1\" class=\"dataframe\">\n  <thead>\n    <tr style=\"text-align: right;\">\n      <th></th>\n      <th>species</th>\n      <th>island</th>\n      <th>culmen_length_mm</th>\n      <th>culmen_depth_mm</th>\n      <th>flipper_length_mm</th>\n      <th>body_mass_g</th>\n      <th>sex</th>\n    </tr>\n  </thead>\n  <tbody>\n    <tr>\n      <th>324</th>\n      <td>Gentoo</td>\n      <td>Biscoe</td>\n      <td>47.3</td>\n      <td>13.8</td>\n      <td>216.0</td>\n      <td>4725.0</td>\n      <td>NaN</td>\n    </tr>\n    <tr>\n      <th>325</th>\n      <td>Gentoo</td>\n      <td>Biscoe</td>\n      <td>46.8</td>\n      <td>16.1</td>\n      <td>215.0</td>\n      <td>5500.0</td>\n      <td>MALE</td>\n    </tr>\n    <tr>\n      <th>326</th>\n      <td>Gentoo</td>\n      <td>Biscoe</td>\n      <td>41.7</td>\n      <td>14.7</td>\n      <td>210.0</td>\n      <td>4700.0</td>\n      <td>FEMALE</td>\n    </tr>\n    <tr>\n      <th>327</th>\n      <td>Gentoo</td>\n      <td>Biscoe</td>\n      <td>53.4</td>\n      <td>15.8</td>\n      <td>219.0</td>\n      <td>5500.0</td>\n      <td>MALE</td>\n    </tr>\n    <tr>\n      <th>328</th>\n      <td>Gentoo</td>\n      <td>Biscoe</td>\n      <td>43.3</td>\n      <td>14.0</td>\n      <td>208.0</td>\n      <td>4575.0</td>\n      <td>FEMALE</td>\n    </tr>\n    <tr>\n      <th>329</th>\n      <td>Gentoo</td>\n      <td>Biscoe</td>\n      <td>48.1</td>\n      <td>15.1</td>\n      <td>209.0</td>\n      <td>5500.0</td>\n      <td>MALE</td>\n    </tr>\n    <tr>\n      <th>330</th>\n      <td>Gentoo</td>\n      <td>Biscoe</td>\n      <td>50.5</td>\n      <td>15.2</td>\n      <td>216.0</td>\n      <td>5000.0</td>\n      <td>FEMALE</td>\n    </tr>\n    <tr>\n      <th>331</th>\n      <td>Gentoo</td>\n      <td>Biscoe</td>\n      <td>49.8</td>\n      <td>15.9</td>\n      <td>229.0</td>\n      <td>5950.0</td>\n      <td>MALE</td>\n    </tr>\n    <tr>\n      <th>332</th>\n      <td>Gentoo</td>\n      <td>Biscoe</td>\n      <td>43.5</td>\n      <td>15.2</td>\n      <td>213.0</td>\n      <td>4650.0</td>\n      <td>FEMALE</td>\n    </tr>\n    <tr>\n      <th>333</th>\n      <td>Gentoo</td>\n      <td>Biscoe</td>\n      <td>51.5</td>\n      <td>16.3</td>\n      <td>230.0</td>\n      <td>5500.0</td>\n      <td>MALE</td>\n    </tr>\n    <tr>\n      <th>334</th>\n      <td>Gentoo</td>\n      <td>Biscoe</td>\n      <td>46.2</td>\n      <td>14.1</td>\n      <td>217.0</td>\n      <td>4375.0</td>\n      <td>FEMALE</td>\n    </tr>\n    <tr>\n      <th>335</th>\n      <td>Gentoo</td>\n      <td>Biscoe</td>\n      <td>55.1</td>\n      <td>16.0</td>\n      <td>230.0</td>\n      <td>5850.0</td>\n      <td>MALE</td>\n    </tr>\n    <tr>\n      <th>336</th>\n      <td>Gentoo</td>\n      <td>Biscoe</td>\n      <td>44.5</td>\n      <td>15.7</td>\n      <td>217.0</td>\n      <td>4875.0</td>\n      <td>.</td>\n    </tr>\n    <tr>\n      <th>337</th>\n      <td>Gentoo</td>\n      <td>Biscoe</td>\n      <td>48.8</td>\n      <td>16.2</td>\n      <td>222.0</td>\n      <td>6000.0</td>\n      <td>MALE</td>\n    </tr>\n    <tr>\n      <th>338</th>\n      <td>Gentoo</td>\n      <td>Biscoe</td>\n      <td>47.2</td>\n      <td>13.7</td>\n      <td>214.0</td>\n      <td>4925.0</td>\n      <td>FEMALE</td>\n    </tr>\n    <tr>\n      <th>339</th>\n      <td>Gentoo</td>\n      <td>Biscoe</td>\n      <td>NaN</td>\n      <td>NaN</td>\n      <td>NaN</td>\n      <td>NaN</td>\n      <td>NaN</td>\n    </tr>\n    <tr>\n      <th>340</th>\n      <td>Gentoo</td>\n      <td>Biscoe</td>\n      <td>46.8</td>\n      <td>14.3</td>\n      <td>215.0</td>\n      <td>4850.0</td>\n      <td>FEMALE</td>\n    </tr>\n    <tr>\n      <th>341</th>\n      <td>Gentoo</td>\n      <td>Biscoe</td>\n      <td>50.4</td>\n      <td>15.7</td>\n      <td>222.0</td>\n      <td>5750.0</td>\n      <td>MALE</td>\n    </tr>\n    <tr>\n      <th>342</th>\n      <td>Gentoo</td>\n      <td>Biscoe</td>\n      <td>45.2</td>\n      <td>14.8</td>\n      <td>212.0</td>\n      <td>5200.0</td>\n      <td>FEMALE</td>\n    </tr>\n    <tr>\n      <th>343</th>\n      <td>Gentoo</td>\n      <td>Biscoe</td>\n      <td>49.9</td>\n      <td>16.1</td>\n      <td>213.0</td>\n      <td>5400.0</td>\n      <td>MALE</td>\n    </tr>\n  </tbody>\n</table>\n</div>"
     },
     "execution_count": 9,
     "metadata": {},
     "output_type": "execute_result"
    }
   ],
   "source": [
    "# Read the penguins size dataset\n",
    "\n",
    "filename = \"https://raw.githubusercontent.com/clizarraga-UAD7/Datasets/main/penguins/penguins_size.csv\"\n",
    "\n",
    "df = pd.read_csv(filename)\n",
    "\n",
    "df.head() # by default it gives you 5 rows\n",
    "\n",
    "df.tail(20)"
   ],
   "metadata": {
    "collapsed": false,
    "pycharm": {
     "name": "#%%\n"
    }
   }
  },
  {
   "cell_type": "code",
   "execution_count": 10,
   "outputs": [
    {
     "name": "stdout",
     "output_type": "stream",
     "text": [
      "<class 'pandas.core.frame.DataFrame'>\n",
      "RangeIndex: 344 entries, 0 to 343\n",
      "Data columns (total 7 columns):\n",
      " #   Column             Non-Null Count  Dtype  \n",
      "---  ------             --------------  -----  \n",
      " 0   species            344 non-null    object \n",
      " 1   island             344 non-null    object \n",
      " 2   culmen_length_mm   342 non-null    float64\n",
      " 3   culmen_depth_mm    342 non-null    float64\n",
      " 4   flipper_length_mm  342 non-null    float64\n",
      " 5   body_mass_g        342 non-null    float64\n",
      " 6   sex                334 non-null    object \n",
      "dtypes: float64(4), object(3)\n",
      "memory usage: 18.9+ KB\n"
     ]
    }
   ],
   "source": [
    "# General information about the dataset\n",
    "df.info()"
   ],
   "metadata": {
    "collapsed": false,
    "pycharm": {
     "name": "#%%\n"
    }
   }
  },
  {
   "cell_type": "code",
   "execution_count": 11,
   "outputs": [
    {
     "data": {
      "text/plain": "count        344\nunique         3\ntop       Biscoe\nfreq         168\nName: island, dtype: object"
     },
     "execution_count": 11,
     "metadata": {},
     "output_type": "execute_result"
    }
   ],
   "source": [
    "df['island'].describe()"
   ],
   "metadata": {
    "collapsed": false,
    "pycharm": {
     "name": "#%%\n"
    }
   }
  },
  {
   "cell_type": "code",
   "execution_count": 14,
   "outputs": [
    {
     "data": {
      "text/plain": "Adelie       152\nGentoo       124\nChinstrap     68\nName: species, dtype: int64"
     },
     "execution_count": 14,
     "metadata": {},
     "output_type": "execute_result"
    }
   ],
   "source": [
    "df['species'].value_counts().head(10)"
   ],
   "metadata": {
    "collapsed": false,
    "pycharm": {
     "name": "#%%\n"
    }
   }
  },
  {
   "cell_type": "code",
   "execution_count": 16,
   "outputs": [
    {
     "data": {
      "text/plain": "count        344\nunique         3\ntop       Biscoe\nfreq         168\nName: island, dtype: object"
     },
     "execution_count": 16,
     "metadata": {},
     "output_type": "execute_result"
    }
   ],
   "source": [
    "df['island'].describe()"
   ],
   "metadata": {
    "collapsed": false,
    "pycharm": {
     "name": "#%%\n"
    }
   }
  },
  {
   "cell_type": "code",
   "execution_count": 18,
   "outputs": [
    {
     "name": "stdout",
     "output_type": "stream",
     "text": [
      "Help on package pandas:\n",
      "\n",
      "NAME\n",
      "    pandas\n",
      "\n",
      "DESCRIPTION\n",
      "    pandas - a powerful data analysis and manipulation library for Python\n",
      "    =====================================================================\n",
      "    \n",
      "    **pandas** is a Python package providing fast, flexible, and expressive data\n",
      "    structures designed to make working with \"relational\" or \"labeled\" data both\n",
      "    easy and intuitive. It aims to be the fundamental high-level building block for\n",
      "    doing practical, **real world** data analysis in Python. Additionally, it has\n",
      "    the broader goal of becoming **the most powerful and flexible open source data\n",
      "    analysis / manipulation tool available in any language**. It is already well on\n",
      "    its way toward this goal.\n",
      "    \n",
      "    Main Features\n",
      "    -------------\n",
      "    Here are just a few of the things that pandas does well:\n",
      "    \n",
      "      - Easy handling of missing data in floating point as well as non-floating\n",
      "        point data.\n",
      "      - Size mutability: columns can be inserted and deleted from DataFrame and\n",
      "        higher dimensional objects\n",
      "      - Automatic and explicit data alignment: objects can be explicitly aligned\n",
      "        to a set of labels, or the user can simply ignore the labels and let\n",
      "        `Series`, `DataFrame`, etc. automatically align the data for you in\n",
      "        computations.\n",
      "      - Powerful, flexible group by functionality to perform split-apply-combine\n",
      "        operations on data sets, for both aggregating and transforming data.\n",
      "      - Make it easy to convert ragged, differently-indexed data in other Python\n",
      "        and NumPy data structures into DataFrame objects.\n",
      "      - Intelligent label-based slicing, fancy indexing, and subsetting of large\n",
      "        data sets.\n",
      "      - Intuitive merging and joining data sets.\n",
      "      - Flexible reshaping and pivoting of data sets.\n",
      "      - Hierarchical labeling of axes (possible to have multiple labels per tick).\n",
      "      - Robust IO tools for loading data from flat files (CSV and delimited),\n",
      "        Excel files, databases, and saving/loading data from the ultrafast HDF5\n",
      "        format.\n",
      "      - Time series-specific functionality: date range generation and frequency\n",
      "        conversion, moving window statistics, date shifting and lagging.\n",
      "\n",
      "PACKAGE CONTENTS\n",
      "    _config (package)\n",
      "    _libs (package)\n",
      "    _testing\n",
      "    _typing\n",
      "    _version\n",
      "    api (package)\n",
      "    arrays (package)\n",
      "    compat (package)\n",
      "    conftest\n",
      "    core (package)\n",
      "    errors (package)\n",
      "    io (package)\n",
      "    plotting (package)\n",
      "    testing\n",
      "    tests (package)\n",
      "    tseries (package)\n",
      "    util (package)\n",
      "\n",
      "SUBMODULES\n",
      "    _hashtable\n",
      "    _lib\n",
      "    _tslib\n",
      "    offsets\n",
      "\n",
      "FUNCTIONS\n",
      "    __getattr__(name)\n",
      "        # GH 27101\n",
      "\n",
      "DATA\n",
      "    IndexSlice = <pandas.core.indexing._IndexSlice object>\n",
      "    NA = <NA>\n",
      "    NaT = NaT\n",
      "    __docformat__ = 'restructuredtext'\n",
      "    __git_version__ = '2cb96529396d93b46abab7bbc73a208e708c642e'\n",
      "    describe_option = <pandas._config.config.CallableDynamicDoc object>\n",
      "    get_option = <pandas._config.config.CallableDynamicDoc object>\n",
      "    options = <pandas._config.config.DictWrapper object>\n",
      "    reset_option = <pandas._config.config.CallableDynamicDoc object>\n",
      "    set_option = <pandas._config.config.CallableDynamicDoc object>\n",
      "\n",
      "VERSION\n",
      "    1.2.4\n",
      "\n",
      "FILE\n",
      "    c:\\programdata\\anaconda3\\lib\\site-packages\\pandas\\__init__.py\n",
      "\n",
      "\n"
     ]
    }
   ],
   "source": [],
   "metadata": {
    "collapsed": false,
    "pycharm": {
     "name": "#%%\n"
    }
   }
  },
  {
   "cell_type": "code",
   "execution_count": null,
   "outputs": [],
   "source": [],
   "metadata": {
    "collapsed": false,
    "pycharm": {
     "name": "#%%\n"
    }
   }
  }
 ],
 "metadata": {
  "kernelspec": {
   "display_name": "Python 3",
   "language": "python",
   "name": "python3"
  },
  "language_info": {
   "codemirror_mode": {
    "name": "ipython",
    "version": 2
   },
   "file_extension": ".py",
   "mimetype": "text/x-python",
   "name": "python",
   "nbconvert_exporter": "python",
   "pygments_lexer": "ipython2",
   "version": "2.7.6"
  }
 },
 "nbformat": 4,
 "nbformat_minor": 0
}